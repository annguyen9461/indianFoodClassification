{
  "cells": [
    {
      "cell_type": "code",
      "execution_count": 1,
      "metadata": {
        "id": "Nqu2YZLhlS8A"
      },
      "outputs": [],
      "source": [
        "! pip install -q kaggle"
      ]
    },
    {
      "cell_type": "code",
      "execution_count": 2,
      "metadata": {
        "colab": {
          "base_uri": "https://localhost:8080/"
        },
        "id": "S-YxQSMkoO_O",
        "outputId": "cbbf3892-3275-4653-feae-adcfe1d1cde0"
      },
      "outputs": [
        {
          "output_type": "stream",
          "name": "stdout",
          "text": [
            "ls: cannot access 'kaggle.json': No such file or directory\n"
          ]
        }
      ],
      "source": [
        "!ls -lha kaggle.json"
      ]
    },
    {
      "cell_type": "code",
      "execution_count": 4,
      "metadata": {
        "id": "t7nU8iS-obDW"
      },
      "outputs": [],
      "source": [
        "!mkdir -p ~/.kaggle"
      ]
    },
    {
      "cell_type": "code",
      "execution_count": 5,
      "metadata": {
        "id": "wY0scvCLojty"
      },
      "outputs": [],
      "source": [
        "!cp kaggle.json ~/.kaggle/"
      ]
    },
    {
      "cell_type": "code",
      "execution_count": 6,
      "metadata": {
        "id": "WsZUBjt1onEY"
      },
      "outputs": [],
      "source": [
        "# hides Kaggle API key from users on server\n",
        "!chmod 600 /root/.kaggle/kaggle.json"
      ]
    },
    {
      "cell_type": "code",
      "execution_count": 7,
      "metadata": {
        "id": "ofZFEwCbqhz4",
        "colab": {
          "base_uri": "https://localhost:8080/"
        },
        "outputId": "b07ca53a-f216-4f2c-9f8e-716f4a4b3762"
      },
      "outputs": [
        {
          "output_type": "stream",
          "name": "stdout",
          "text": [
            "Downloading indian-food-images-dataset.zip to /content\n",
            " 99% 351M/355M [00:09<00:00, 71.8MB/s]\n",
            "100% 355M/355M [00:09<00:00, 40.8MB/s]\n",
            "Downloading themassiveindianfooddataset.zip to /content\n",
            " 99% 721M/726M [00:19<00:00, 31.9MB/s]\n",
            "100% 726M/726M [00:19<00:00, 39.5MB/s]\n"
          ]
        }
      ],
      "source": [
        "!kaggle datasets download -d iamsouravbanerjee/indian-food-images-dataset\n",
        "!kaggle datasets download -d anshulmehtakaggl/themassiveindianfooddataset\n"
      ]
    },
    {
      "cell_type": "code",
      "execution_count": null,
      "metadata": {
        "id": "-q7xQyGp7Pno"
      },
      "outputs": [],
      "source": [
        "!unzip /content/indian-food-images-dataset.zip \n",
        "!unzip /content/themassiveindianfooddataset.zip "
      ]
    },
    {
      "cell_type": "code",
      "source": [
        "!mkdir our_data"
      ],
      "metadata": {
        "id": "PBq2M4Xc-Usg"
      },
      "execution_count": 9,
      "outputs": []
    },
    {
      "cell_type": "code",
      "source": [
        "!rm -rf themassiveindianfooddataset.zip indian-food-images-dataset.zip sample_data/ food20dataset"
      ],
      "metadata": {
        "id": "oQtocfJ4ANoi"
      },
      "execution_count": 10,
      "outputs": []
    },
    {
      "cell_type": "code",
      "source": [
        "# move all files into the folder our_data\n",
        "with open(\"List of Indian Foods.txt\", \"r\") as a_file:\n",
        "  for line in a_file:\n",
        "    stripped_line = line.strip()\n",
        "    !mv \"/content/Indian Food Images/Indian Food Images/{stripped_line}\" \"/content/our_data\"\n",
        "\n"
      ],
      "metadata": {
        "id": "2hS7M_5OJdMd"
      },
      "execution_count": null,
      "outputs": []
    },
    {
      "cell_type": "code",
      "source": [
        "# most subfolders were not removed from the Indian Food Images folder, so we repeat the process\n",
        "with open(\"List of Indian Foods.txt\", \"r\") as a_file:\n",
        "  for line in a_file:\n",
        "    stripped_line = line.strip()\n",
        "    !mv \"/content/our_data/Indian Food Images/{stripped_line}\" \"/content/our_data\""
      ],
      "metadata": {
        "id": "AKtW5IOR0EK8"
      },
      "execution_count": null,
      "outputs": []
    },
    {
      "cell_type": "code",
      "source": [
        "# delete unneeded folders\n",
        "!rm -rf \"/content/Indian Food Images/\"\n",
        "!rm -rf \"/content/our_data/Indian Food Images/\""
      ],
      "metadata": {
        "id": "rL1FM_smJ7Is"
      },
      "execution_count": 13,
      "outputs": []
    },
    {
      "cell_type": "code",
      "source": [
        "!mv /content/Biryani-resize /content/our_data/\n",
        "!mv /content/Chole-Bhature-Resized /content/our_data/\n",
        "!mv /content/Jalebi-Resize /content/our_data/\n",
        "!mv /content/Kofta-Resized /content/our_data/\n",
        "!mv /content/Naan-Resized /content/our_data/\n",
        "!mv /content/Paneer-Tikka-resized /content/our_data/\n",
        "!mv /content/Pani-Puri-resize /content/our_data/\n",
        "!mv /content/Pav-Bhaji-Resized/ /content/our_data/\n",
        "!mv /content/Vadapav-Resized/ /content/our_data/\n",
        "!mv /content/dabeli-resize /content/our_data/\n",
        "!mv /content/dal_resized /content/our_data/\n",
        "!mv /content/dhokla-resize /content/our_data/\n",
        "!mv /content/dosa_resized /content/our_data/\n",
        "!mv /content/kathi-resize /content/our_data/\n",
        "!mv /content/pakora-resize /content/our_data/"
      ],
      "metadata": {
        "id": "YJAwRBEPDgIW"
      },
      "execution_count": 14,
      "outputs": []
    },
    {
      "cell_type": "code",
      "source": [
        "import os\n",
        "import shutil\n",
        "from PIL import Image\n",
        "\n",
        "def moveFiles(oldDir, newDir):\n",
        "  source_folder = r\"{}/\".format(oldDir)\n",
        "  destination_folder = r\"{}/\".format(newDir)\n",
        "\n",
        "  # fetch all files\n",
        "  for file_name in os.listdir(source_folder):\n",
        "      file_name_jpg = file_name[:-4] + \".jpg\"\n",
        "\n",
        "      # construct full file path\n",
        "      source = source_folder + file_name\n",
        "\n",
        "      ### convert .png to .jpg\n",
        "      im1 = Image.open(r\"{}\".format(source))\n",
        "      # remove alpha channel (RGBA)\n",
        "      im1 = im1.convert('RGB')\n",
        "\n",
        "      jpg_filepath = source_folder + file_name_jpg\n",
        "      im1.save(r\"{}\".format(jpg_filepath))\n",
        "      ### \n",
        "\n",
        "      source_jpg = source_folder + file_name_jpg\n",
        "      destination = destination_folder + file_name_jpg\n",
        "\n",
        "      # move only .jpg files\n",
        "      if os.path.isfile(source_jpg):\n",
        "          shutil.move(source_jpg, destination)\n",
        "          print('Moved:', file_name_jpg)"
      ],
      "metadata": {
        "id": "ItwijB_PdagE"
      },
      "execution_count": 44,
      "outputs": []
    },
    {
      "cell_type": "code",
      "source": [
        "# make new folders for same resize-named folders \n",
        "!mkdir \"/content/our_data/chole_bhature\"\n",
        "!mkdir \"/content/our_data/paneer_tikka\"\n",
        "!mkdir \"/content/our_data/paneer_puri\"\n",
        "!mkdir \"/content/our_data/pav_bhaji\"\n",
        "!mkdir \"/content/our_data/vadapav\"\n",
        "!mkdir \"/content/our_data/dal\"\n",
        "!mkdir \"/content/our_data/pakora\"\n",
        "!mkdir \"/content/our_data/dhokla\"\n",
        "!mkdir \"/content/our_data/dosa\"\n",
        "!mkdir \"/content/our_data/dabeli\"\n",
        "!mkdir \"/content/our_data/kathi\""
      ],
      "metadata": {
        "id": "_xyDA0ZEcR47"
      },
      "execution_count": null,
      "outputs": []
    },
    {
      "cell_type": "code",
      "source": [
        "moveFiles(\"/content/our_data/Biryani-resize/resize\",\"/content/our_data/biryani\")\n",
        "moveFiles(\"/content/our_data/Chole-Bhature-Resized/Chole-Bhature-Resized\",\"/content/our_data/chole_bhature\")\n",
        "moveFiles(\"/content/our_data/Jalebi-Resize/Jalebi-Resize\",\"/content/our_data/jalebi\")\n",
        "moveFiles(\"/content/our_data/Kofta-Resized/Kofta-Resized\",\"/content/our_data/kofta\")\n",
        "moveFiles(\"/content/our_data/Naan-Resized/Naan-Resized\",\"/content/our_data/naan\")\n",
        "moveFiles(\"/content/our_data/Paneer-Tikka-resized/Paneer-Tikka-resized\",\"/content/our_data/paneer_tikka\")\n",
        "moveFiles(\"/content/our_data/Pani-Puri-resize/resize\",\"/content/our_data/paneer_puri\")\n",
        "moveFiles(\"/content/our_data/Pav-Bhaji-Resized/Pav-Bhaji-Resized\",\"/content/our_data/pav_bhaji\")\n",
        "moveFiles(\"/content/our_data/Vadapav-Resized/Vadapav-Resized\",\"/content/our_data/vadapav\")\n",
        "moveFiles(\"/content/our_data/dal_resized/dal_resized\",\"/content/our_data/dal\")\n",
        "moveFiles(\"/content/our_data/pakora-resize/pakora-resize\",\"/content/our_data/pakora\")\n",
        "moveFiles(\"/content/our_data/dhokla-resize/dhokla-resize\",\"/content/our_data/dhokla\")\n",
        "moveFiles(\"/content/our_data/dosa_resized/dosa_resized\",\"/content/our_data/dosa\")\n",
        "moveFiles(\"/content/our_data/dabeli-resize/dabeli-resize\",\"/content/our_data/dabeli\")\n",
        "moveFiles(\"/content/our_data/kathi-resize/kathi-resize\",\"/content/our_data/kathi\")"
      ],
      "metadata": {
        "id": "Ob8lK_PDeelX"
      },
      "execution_count": null,
      "outputs": []
    },
    {
      "cell_type": "code",
      "source": [
        "# remove unnecessary folders after moving files\n",
        "!rm -rf \"/content/our_data/kathi-resize/\" \"/content/our_data/dabeli-resize\" \"/content/our_data/dosa_resized\" \"/content/our_data/dhokla-resize/\" \"/content/our_data/pakora-resize/\" \"/content/our_data/dal_resized/\" \"/content/our_data/Vadapav-Resized/\" \"/content/our_data/Biryani-resize/\" \"/content/our_data/Chole-Bhature-Resized/\" \"/content/our_data/Jalebi-Resize/\" \"/content/our_data/Kofta-Resized/\" \"/content/our_data/Naan-Resized/\" \"/content/our_data/Paneer-Tikka-resized/\" \"/content/our_data/Pani-Puri-resize/\" \"/content/our_data/Pav-Bhaji-Resized/\""
      ],
      "metadata": {
        "id": "t9WU-XFwuybC"
      },
      "execution_count": 43,
      "outputs": []
    },
    {
      "cell_type": "code",
      "source": [
        "!pip install split-folders"
      ],
      "metadata": {
        "colab": {
          "base_uri": "https://localhost:8080/"
        },
        "id": "DtvWSi2KFjZ8",
        "outputId": "848f0512-3909-4a4d-b18f-880b111b8fb5"
      },
      "execution_count": 45,
      "outputs": [
        {
          "output_type": "stream",
          "name": "stdout",
          "text": [
            "Collecting split-folders\n",
            "  Downloading split_folders-0.5.1-py3-none-any.whl (8.4 kB)\n",
            "Installing collected packages: split-folders\n",
            "Successfully installed split-folders-0.5.1\n"
          ]
        }
      ]
    },
    {
      "cell_type": "code",
      "source": [
        "# splitfolders will split folders into train, valid, and test folders\n",
        "import splitfolders\n",
        "splitfolders.ratio('/content/our_data/', output=\"/content/our_data\", seed=1337, ratio=(.6, 0.4,0.0)) \n"
      ],
      "metadata": {
        "colab": {
          "base_uri": "https://localhost:8080/"
        },
        "id": "gNYkYuoXFlmo",
        "outputId": "77717871-4033-4c29-e2a4-9b12afcf01cb"
      },
      "execution_count": 46,
      "outputs": [
        {
          "output_type": "stream",
          "name": "stderr",
          "text": [
            "Copying files: 8770 files [00:03, 2754.20 files/s]\n"
          ]
        }
      ]
    },
    {
      "cell_type": "code",
      "source": [
        "# preprocessing: data augmentation\n",
        "from tensorflow import keras\n",
        "from tensorflow.keras.preprocessing.image import ImageDataGenerator\n",
        "\n",
        "datagen_train = ImageDataGenerator(\n",
        "    rotation_range=10,  \n",
        "    zoom_range=0.1, \n",
        "    width_shift_range=0.1,  \n",
        "    height_shift_range=0.1, \n",
        "    horizontal_flip=True, \n",
        "    vertical_flip=True,\n",
        ")  \n",
        "\n",
        "datagen_valid = ImageDataGenerator(samplewise_center=True)\n",
        "\n",
        "# input matrices\n",
        "\n",
        "# load and iterate training dataset\n",
        "train_it = datagen_train.flow_from_directory(\n",
        "    \"/content/our_data/train/\",\n",
        "    target_size=(224, 224),\n",
        "    color_mode=\"rgb\",\n",
        "    class_mode=\"categorical\",\n",
        ")\n",
        "# load and iterate validation dataset\n",
        "valid_it = datagen_valid.flow_from_directory(\n",
        "    \"/content/our_data/val/\",\n",
        "    target_size=(224, 224),\n",
        "    color_mode=\"rgb\",\n",
        "    class_mode=\"categorical\",\n",
        ")"
      ],
      "metadata": {
        "id": "vstFQ2G-nZxa",
        "colab": {
          "base_uri": "https://localhost:8080/"
        },
        "outputId": "21829fdf-28f2-48a0-abae-adadb7577bf5"
      },
      "execution_count": 47,
      "outputs": [
        {
          "output_type": "stream",
          "name": "stdout",
          "text": [
            "Found 5256 images belonging to 91 classes.\n",
            "Found 3502 images belonging to 91 classes.\n"
          ]
        }
      ]
    }
  ],
  "metadata": {
    "colab": {
      "name": "indianFoodClassification.ipynb",
      "provenance": [],
      "collapsed_sections": []
    },
    "kernelspec": {
      "display_name": "Python 3",
      "name": "python3"
    },
    "language_info": {
      "name": "python"
    }
  },
  "nbformat": 4,
  "nbformat_minor": 0
}