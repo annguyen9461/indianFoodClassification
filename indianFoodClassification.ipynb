{
  "cells": [
    {
      "cell_type": "code",
      "execution_count": null,
      "metadata": {
        "id": "Nqu2YZLhlS8A"
      },
      "outputs": [],
      "source": [
        "! pip install -q kaggle"
      ]
    },
    {
      "cell_type": "code",
      "execution_count": null,
      "metadata": {
        "id": "XncJQUUI0ORZ"
      },
      "outputs": [],
      "source": [
        "## TO DO: edit this block so that it automatically uploads the json file\n",
        "## and the professor doesn't have to upload the file himself."
      ]
    },
    {
      "cell_type": "code",
      "execution_count": null,
      "metadata": {
        "colab": {
          "base_uri": "https://localhost:8080/",
          "height": 55,
          "resources": {
            "http://localhost:8080/nbextensions/google.colab/files.js": {
              "data": "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",
              "headers": [
                [
                  "content-type",
                  "application/javascript"
                ]
              ],
              "ok": true,
              "status": 200,
              "status_text": ""
            }
          }
        },
        "id": "A8qKKsG-nysl",
        "outputId": "6bc24b57-25a4-4656-d43e-69002d95dcc2"
      },
      "outputs": [
        {
          "output_type": "display_data",
          "data": {
            "text/html": [
              "\n",
              "     <input type=\"file\" id=\"files-1bcde96a-75de-4dc7-91a4-eec158169bc9\" name=\"files[]\" multiple disabled\n",
              "        style=\"border:none\" />\n",
              "     <output id=\"result-1bcde96a-75de-4dc7-91a4-eec158169bc9\">\n",
              "      Upload widget is only available when the cell has been executed in the\n",
              "      current browser session. Please rerun this cell to enable.\n",
              "      </output>\n",
              "      <script src=\"/nbextensions/google.colab/files.js\"></script> "
            ],
            "text/plain": [
              "<IPython.core.display.HTML object>"
            ]
          },
          "metadata": {}
        },
        {
          "output_type": "execute_result",
          "data": {
            "text/plain": [
              "{}"
            ]
          },
          "metadata": {},
          "execution_count": 4
        }
      ],
      "source": [
        "from google.colab import files\n",
        "files.upload()"
      ]
    },
    {
      "cell_type": "code",
      "execution_count": null,
      "metadata": {
        "colab": {
          "base_uri": "https://localhost:8080/"
        },
        "id": "S-YxQSMkoO_O",
        "outputId": "a7941dee-af0b-4a9f-c792-c6c6a06737fc"
      },
      "outputs": [
        {
          "output_type": "stream",
          "name": "stdout",
          "text": [
            "-rw-r--r-- 1 root root 67 Mar  1 08:37 kaggle.json\n"
          ]
        }
      ],
      "source": [
        "!ls -lha kaggle.json"
      ]
    },
    {
      "cell_type": "code",
      "execution_count": null,
      "metadata": {
        "id": "t7nU8iS-obDW"
      },
      "outputs": [],
      "source": [
        "!mkdir -p ~/.kaggle"
      ]
    },
    {
      "cell_type": "code",
      "execution_count": null,
      "metadata": {
        "id": "wY0scvCLojty"
      },
      "outputs": [],
      "source": [
        "!cp kaggle.json ~/.kaggle/"
      ]
    },
    {
      "cell_type": "code",
      "execution_count": null,
      "metadata": {
        "id": "WsZUBjt1onEY"
      },
      "outputs": [],
      "source": [
        "!chmod 600 /root/.kaggle/kaggle.json"
      ]
    },
    {
      "cell_type": "code",
      "execution_count": null,
      "metadata": {
        "colab": {
          "base_uri": "https://localhost:8080/"
        },
        "id": "IK-FBLJCorSM",
        "outputId": "ed9486d4-c5c9-415c-fd7e-433a9cac6a94"
      },
      "outputs": [
        {
          "output_type": "stream",
          "name": "stdout",
          "text": [
            "/content\n"
          ]
        }
      ],
      "source": [
        "!pwd"
      ]
    },
    {
      "cell_type": "code",
      "execution_count": null,
      "metadata": {
        "colab": {
          "base_uri": "https://localhost:8080/"
        },
        "id": "ofZFEwCbqhz4",
        "outputId": "27024f7f-a668-4ee6-c883-d50b49a5ba3d"
      },
      "outputs": [
        {
          "output_type": "stream",
          "name": "stdout",
          "text": [
            "indian-food-images-dataset.zip: Skipping, found more recently modified local copy (use --force to force download)\n",
            "themassiveindianfooddataset.zip: Skipping, found more recently modified local copy (use --force to force download)\n",
            "food20dataset.zip: Skipping, found more recently modified local copy (use --force to force download)\n"
          ]
        }
      ],
      "source": [
        "!kaggle datasets download -d iamsouravbanerjee/indian-food-images-dataset\n",
        "!kaggle datasets download -d anshulmehtakaggl/themassiveindianfooddataset\n",
        "#!kaggle datasets download -d cdart99/food20dataset"
      ]
    },
    {
      "cell_type": "code",
      "execution_count": null,
      "metadata": {
        "id": "-q7xQyGp7Pno"
      },
      "outputs": [],
      "source": [
        "!unzip /content/indian-food-images-dataset.zip \n",
        "!unzip /content/themassiveindianfooddataset.zip "
      ]
    },
    {
      "cell_type": "code",
      "source": [
        "!mkdir our_data\n",
        "!mkdir our_data/train\n",
        "!mkdir our_data/valid"
      ],
      "metadata": {
        "id": "PBq2M4Xc-Usg"
      },
      "execution_count": null,
      "outputs": []
    },
    {
      "cell_type": "code",
      "source": [
        "!rm -rf themassiveindianfooddataset.zip indian-food-images-dataset.zip sample_data/ food20dataset List\\ of\\ Indian\\ Foods.txt"
      ],
      "metadata": {
        "id": "oQtocfJ4ANoi"
      },
      "execution_count": null,
      "outputs": []
    },
    {
      "cell_type": "code",
      "source": [
        "!mv \"/content/Indian Food Images/Indian Food Images/ahhirasam\" \"/content/our_data\"\n",
        "!mv \"/content/Indian Food Images/Indian Food Images/aloo_gobi\" \"/content/our_data\"\n",
        "!mv \"/content/Indian Food Images/Indian Food Images/aloo_matar\" \"/content/our_data\"\n",
        "!mv \"/content/Indian Food Images/Indian Food Images/aloo_methi\" \"/content/our_data\"\n",
        "!mv \"/content/Indian Food Images/Indian Food Images/aloo_shimla_mirch\" \"/content/our_data\"\n",
        "!mv \"/content/Indian Food Images/Indian Food Images/aloo_tikki\" \"/content/our_data\"\n",
        "!mv \"/content/Indian Food Images/Indian Food Images/anarsa\" \"/content/our_data\"\n",
        "!mv \"/content/Indian Food Images/Indian Food Images/ariselu\" \"/content/our_data\"\n",
        "!mv \"/content/Indian Food Images/Indian Food Images/bandar_laddu\" \"/content/our_data\"\n",
        "!mv \"/content/Indian Food Images/Indian Food Images/basundi\" \"/content/our_data\"\n",
        "!mv \"/content/Indian Food Images/Indian Food Images/bhatura\" \"/content/our_data\"\n",
        "!mv \"/content/Indian Food Images/Indian Food Images/bhindi_masala\" \"/content/our_data\"\n",
        "!mv \"/content/Indian Food Images/Indian Food Images/biryani\" \"/content/our_data\"\n",
        "!mv \"/content/Indian Food Images/Indian Food Images/boondi\" \"/content/our_data\"\n",
        "!mv \"/content/Indian Food Images/Indian Food Images/butter_chicken\" \"/content/our_data\"\n",
        "!mv \"/content/Indian Food Images/Indian Food Images/chak_hao_kheer\" \"/content/our_data\"\n",
        "!mv \"/content/Indian Food Images/Indian Food Images/cham_cham\" \"/content/our_data\"\n",
        "!mv \"/content/Indian Food Images/Indian Food Images/chana_masala\" \"/content/our_data\"\n",
        "!mv \"/content/Indian Food Images/Indian Food Images/chapati\" \"/content/our_data\"\n",
        "!mv \"/content/Indian Food Images/Indian Food Images/chhena_kheeri\" \"/content/our_data\"\n",
        "!mv \"/content/Indian Food Images/Indian Food Images/chicken_razala\" \"/content/our_data\"\n",
        "!mv \"/content/Indian Food Images/Indian Food Images/chicken_tikka\" \"/content/our_data\"\n",
        "!mv \"/content/Indian Food Images/Indian Food Images/chicken_tikka_masala\" \"/content/our_data\"\n",
        "!mv \"/content/Indian Food Images/Indian Food Images/chikki\" \"/content/our_data\"\n",
        "!mv \"/content/Indian Food Images/Indian Food Images/daal_baati_churma\" \"/content/our_data\"\n",
        "!mv \"/content/Indian Food Images/Indian Food Images/daal_puri\" \"/content/our_data\"\n",
        "!mv \"/content/Indian Food Images/Indian Food Images/dal_makhani\" \"/content/our_data\"\n",
        "!mv \"/content/Indian Food Images/Indian Food Images/dal_tadka\" \"/content/our_data\"\n",
        "!mv \"/content/Indian Food Images/Indian Food Images/dharwad_pedha\" \"/content/our_data\"\n",
        "!mv \"/content/Indian Food Images/Indian Food Images/doodhpak\" \"/content/our_data\"\n",
        "!mv \"/content/Indian Food Images/Indian Food Images/double_ka_meetha\" \"/content/our_data\"\n",
        "!mv \"/content/Indian Food Images/Indian Food Images/dum_aloo\" \"/content/our_data\"\n",
        "!mv \"/content/Indian Food Images/Indian Food Images/gajar_ka_halwa\" \"/content/our_data\"\n",
        "!mv \"/content/Indian Food Images/Indian Food Images/gavvalu\" \"/content/our_data\"\n",
        "!mv \"/content/Indian Food Images/Indian Food Images/ghevar\" \"/content/our_data\"\n",
        "!mv \"/content/Indian Food Images/Indian Food Images/gulab_jamun\" \"/content/our_data\"\n",
        "!mv \"/content/Indian Food Images/Indian Food Images/imarti\" \"/content/our_data\"\n",
        "!mv \"/content/Indian Food Images/Indian Food Images/jalebi\" \"/content/our_data\"\n",
        "!mv \"/content/Indian Food Images/Indian Food Images/kachori\" \"/content/our_data\"\n",
        "!mv \"/content/Indian Food Images/Indian Food Images/kadai_paneer\" \"/content/our_data\"\n",
        "!mv \"/content/Indian Food Images/Indian Food Images/kadhi_pakoda\" \"/content/our_data\"\n",
        "!mv \"/content/Indian Food Images/Indian Food Images/kajjikaya\" \"/content/our_data\"\n",
        "!mv \"/content/Indian Food Images/Indian Food Images/kakinada_khaja\" \"/content/our_data\"\n",
        "!mv \"/content/Indian Food Images/Indian Food Images/kalakand\" \"/content/our_data\"\n",
        "!mv \"/content/Indian Food Images/Indian Food Images/karela_bharta\" \"/content/our_data\"\n",
        "!mv \"/content/Indian Food Images/Indian Food Images/kofta\" \"/content/our_data\"\n",
        "!mv \"/content/Indian Food Images/Indian Food Images/kuzhi_paniyaram\" \"/content/our_data\"\n",
        "!mv \"/content/Indian Food Images/Indian Food Images/lassi\" \"/content/our_data\"\n",
        "!mv \"/content/Indian Food Images/Indian Food Images/ledikeni\" \"/content/our_data\"\n",
        "!mv \"/content/Indian Food Images/Indian Food Images/litti_chokha\" \"/content/our_data\"\n",
        "!mv \"/content/Indian Food Images/Indian Food Images/lyangcha\" \"/content/our_data\"\n",
        "!mv \"/content/Indian Food Images/Indian Food Images/maach_jhol\" \"/content/our_data\"\n",
        "!mv \"/content/Indian Food Images/Indian Food Images/makki_di_roti_sarson_da_saag\" \"/content/our_data\"\n",
        "!mv \"/content/Indian Food Images/Indian Food Images/malapua\" \"/content/our_data\"\n",
        "!mv \"/content/Indian Food Images/Indian Food Images/misi_roti\" \"/content/our_data\"\n",
        "!mv \"/content/Indian Food Images/Indian Food Images/misti_doi\" \"/content/our_data\"\n",
        "!mv \"/content/Indian Food Images/Indian Food Images/modak\" \"/content/our_data\"\n",
        "!mv \"/content/Indian Food Images/Indian Food Images/mysore_pak\" \"/content/our_data\"\n",
        "!mv \"/content/Indian Food Images/Indian Food Images/naan\" \"/content/our_data\"\n",
        "!mv \"/content/Indian Food Images/Indian Food Images/navrattan_korma\" \"/content/our_data\"\n",
        "!mv \"/content/Indian Food Images/Indian Food Images/palak_paneer\" \"/content/our_data\"\n",
        "!mv \"/content/Indian Food Images/Indian Food Images/paneer_butter_masala\" \"/content/our_data\"\n",
        "!mv \"/content/Indian Food Images/Indian Food Images/phirni\" \"/content/our_data\"\n",
        "!mv \"/content/Indian Food Images/Indian Food Images/pithe\" \"/content/our_data\"\n",
        "!mv \"/content/Indian Food Images/Indian Food Images/poha\" \"/content/our_data\"\n",
        "!mv \"/content/Indian Food Images/Indian Food Images/poornalu\" \"/content/our_data\"\n",
        "!mv \"/content/Indian Food Images/Indian Food Images/pootharekulu\" \"/content/our_data\"\n",
        "!mv \"/content/Indian Food Images/Indian Food Images/qubani_ka_meetha\" \"/content/our_data\"\n",
        "!mv \"/content/Indian Food Images/Indian Food Images/rabri\" \"/content/our_data\"\n",
        "!mv \"/content/Indian Food Images/Indian Food Images/ras_malai\" \"/content/our_data\"\n",
        "!mv \"/content/Indian Food Images/Indian Food Images/rasgulla\" \"/content/our_data\"\n",
        "!mv \"/content/Indian Food Images/Indian Food Images/sandesh\" \"/content/our_data\"\n",
        "!mv \"/content/Indian Food Images/Indian Food Images/shankarpali\" \"/content/our_data\"\n",
        "!mv \"/content/Indian Food Images/Indian Food Images/sheera\" \"/content/our_data\"\n",
        "!mv \"/content/Indian Food Images/Indian Food Images/sheer_korma\" \"/content/our_data\"\n",
        "!mv \"/content/Indian Food Images/Indian Food Images/shrikhand\" \"/content/our_data\"\n",
        "!mv \"/content/Indian Food Images/Indian Food Images/sohan_halwa\" \"/content/our_data\"\n",
        "!mv \"/content/Indian Food Images/Indian Food Images/sohan_papdi\" \"/content/our_data\"\n",
        "!mv \"/content/Indian Food Images/Indian Food Images/sutar_feni\" \"/content/our_data\"\n",
        "!mv \"/content/Indian Food Images/Indian Food Images/unni_appam\" \"/content/our_data\""
      ],
      "metadata": {
        "id": "2hS7M_5OJdMd"
      },
      "execution_count": null,
      "outputs": []
    },
    {
      "cell_type": "code",
      "source": [
        "!rm -rf \"/content/Indian Food Images/\""
      ],
      "metadata": {
        "id": "rL1FM_smJ7Is"
      },
      "execution_count": 37,
      "outputs": []
    },
    {
      "cell_type": "code",
      "source": [
        "!mv /content/Biryani-resize /content/our_data/\n",
        "!mv /content/Chole-Bhature-Resized /content/our_data/\n",
        "!mv /content/Jalebi-Resize /content/our_data/\n",
        "!mv /content/Kofta-Resized /content/our_data/\n",
        "!mv /content/Naan-Resized /content/our_data/\n",
        "!mv /content/Paneer-Tikka-resized /content/our_data/\n",
        "!mv /content/Pani-Puri-resize /content/our_data/\n",
        "!mv /content/Pav-Bhaji-Resized/ /content/our_data/\n",
        "!mv /content/Vadapav-Resized/ /content/our_data/\n",
        "!mv /content/dabeli-resize /content/our_data/\n",
        "!mv /content/dal_resized /content/our_data/\n",
        "!mv /content/dhokla-resize /content/our_data/\n",
        "!mv /content/dosa_resized /content/our_data/\n",
        "!mv /content/kathi-resize /content/our_data/\n",
        "!mv /content/pakora-resize /content/our_data/"
      ],
      "metadata": {
        "id": "YJAwRBEPDgIW"
      },
      "execution_count": 38,
      "outputs": []
    },
    {
      "cell_type": "code",
      "source": [
        "!pip install split-folders"
      ],
      "metadata": {
        "colab": {
          "base_uri": "https://localhost:8080/"
        },
        "id": "DtvWSi2KFjZ8",
        "outputId": "c5546405-3581-4372-c382-99c9113aba0b"
      },
      "execution_count": null,
      "outputs": [
        {
          "output_type": "stream",
          "name": "stdout",
          "text": [
            "Collecting split-folders\n",
            "  Downloading split_folders-0.5.1-py3-none-any.whl (8.4 kB)\n",
            "Installing collected packages: split-folders\n",
            "Successfully installed split-folders-0.5.1\n"
          ]
        }
      ]
    },
    {
      "cell_type": "code",
      "source": [
        "import splitfolders\n",
        "splitfolders.ratio('/content/our_data/Biryani-resize', output=\"/content/our_data\", seed=1337, ratio=(.6, 0.4,0.0)) "
      ],
      "metadata": {
        "colab": {
          "base_uri": "https://localhost:8080/"
        },
        "id": "gNYkYuoXFlmo",
        "outputId": "3f94b528-5b0c-45c6-8d4d-0a7021595244"
      },
      "execution_count": null,
      "outputs": [
        {
          "output_type": "stream",
          "name": "stderr",
          "text": [
            "Copying files: 229 files [00:00, 2610.31 files/s]\n"
          ]
        }
      ]
    }
  ],
  "metadata": {
    "colab": {
      "name": "indianFoodClassification.ipynb",
      "provenance": [],
      "collapsed_sections": []
    },
    "kernelspec": {
      "display_name": "Python 3",
      "name": "python3"
    },
    "language_info": {
      "name": "python"
    }
  },
  "nbformat": 4,
  "nbformat_minor": 0
}