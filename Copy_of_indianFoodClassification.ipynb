{
  "cells": [
    {
      "cell_type": "code",
      "source": [
        "from PIL import Image\n",
        "from sklearn.metrics import classification_report, confusion_matrix, ConfusionMatrixDisplay\n",
        "from tensorflow import keras\n",
        "from tensorflow.keras.preprocessing.image import ImageDataGenerator\n",
        "from keras.models import Sequential, Model\n",
        "from keras.callbacks import EarlyStopping\n",
        "from keras.layers import Dense, Flatten, Conv2D, MaxPool2D, GlobalAveragePooling2D, GlobalMaxPooling1D, Dropout\n",
        "from tensorflow.keras.optimizers import SGD\n",
        "from tensorflow.keras.initializers import HeNormal\n",
        "from tensorflow.keras.applications.inception_v3 import InceptionV3\n",
        "\n",
        "import matplotlib.pyplot as plt\n",
        "import numpy as np\n",
        "import splitfolders\n",
        "import os\n",
        "import shutil"
      ],
      "metadata": {
        "id": "mcJLKlRfT-iW"
      },
      "execution_count": null,
      "outputs": []
    },
    {
      "cell_type": "code",
      "execution_count": null,
      "metadata": {
        "id": "Nqu2YZLhlS8A"
      },
      "outputs": [],
      "source": [
        "! pip install -q kaggle"
      ]
    },
    {
      "cell_type": "code",
      "execution_count": null,
      "metadata": {
        "colab": {
          "base_uri": "https://localhost:8080/"
        },
        "id": "u_sO-CyzNAEc",
        "outputId": "47a062ab-7b23-4df6-85b7-e0c53b06fb13"
      },
      "outputs": [
        {
          "output_type": "stream",
          "name": "stdout",
          "text": [
            "Collecting split-folders\n",
            "  Downloading split_folders-0.5.1-py3-none-any.whl (8.4 kB)\n",
            "Installing collected packages: split-folders\n",
            "Successfully installed split-folders-0.5.1\n"
          ]
        }
      ],
      "source": [
        "!pip install split-folders"
      ]
    },
    {
      "cell_type": "code",
      "execution_count": null,
      "metadata": {
        "id": "S-YxQSMkoO_O"
      },
      "outputs": [],
      "source": [
        "# kaggle.json contains the necessary API username and key to use Kaggle\n",
        "!ls -lha kaggle.json &> /dev/null "
      ]
    },
    {
      "cell_type": "code",
      "execution_count": null,
      "metadata": {
        "id": "t7nU8iS-obDW"
      },
      "outputs": [],
      "source": [
        "!mkdir -p ~/.kaggle"
      ]
    },
    {
      "cell_type": "code",
      "execution_count": null,
      "metadata": {
        "id": "wY0scvCLojty"
      },
      "outputs": [],
      "source": [
        "!cp kaggle.json ~/.kaggle/"
      ]
    },
    {
      "cell_type": "code",
      "execution_count": null,
      "metadata": {
        "id": "WsZUBjt1onEY"
      },
      "outputs": [],
      "source": [
        "# hides Kaggle API key from users on server\n",
        "!chmod 600 /root/.kaggle/kaggle.json"
      ]
    },
    {
      "cell_type": "code",
      "execution_count": null,
      "metadata": {
        "id": "ofZFEwCbqhz4"
      },
      "outputs": [],
      "source": [
        "!kaggle datasets download -d iamsouravbanerjee/indian-food-images-dataset &> /dev/null \n",
        "!kaggle datasets download -d anshulmehtakaggl/themassiveindianfooddataset &> /dev/null \n"
      ]
    },
    {
      "cell_type": "code",
      "execution_count": null,
      "metadata": {
        "id": "PBq2M4Xc-Usg"
      },
      "outputs": [],
      "source": [
        "!mkdir our_data"
      ]
    },
    {
      "cell_type": "code",
      "execution_count": null,
      "metadata": {
        "id": "-q7xQyGp7Pno"
      },
      "outputs": [],
      "source": [
        "!unzip /content/indian-food-images-dataset.zip &> /dev/null \n",
        "!unzip /content/themassiveindianfooddataset.zip &> /dev/null"
      ]
    },
    {
      "cell_type": "code",
      "execution_count": null,
      "metadata": {
        "id": "g9Napk9IKz65"
      },
      "outputs": [],
      "source": [
        "!mkdir \"/content/dataset1\"\n",
        "!mkdir \"/content/dataset2\""
      ]
    },
    {
      "cell_type": "code",
      "execution_count": null,
      "metadata": {
        "colab": {
          "base_uri": "https://localhost:8080/"
        },
        "id": "Pm5ZOMUBJ569",
        "outputId": "a21c9bdd-bf70-488a-b98b-0dfc58fb0988"
      },
      "outputs": [
        {
          "output_type": "stream",
          "name": "stderr",
          "text": [
            "Copying files: 4000 files [00:03, 1135.33 files/s]\n"
          ]
        }
      ],
      "source": [
        "# splitfolders will split folders into train, valid, and test folders\n",
        "splitfolders.ratio('/content/Indian Food Images/Indian Food Images', output=\"/content/dataset1\", seed=1337, ratio=(.4, 0.4,0.2)) "
      ]
    },
    {
      "cell_type": "code",
      "execution_count": null,
      "metadata": {
        "id": "YJAwRBEPDgIW"
      },
      "outputs": [],
      "source": [
        "!mv /content/Biryani-resize /content/our_data/\n",
        "!mv /content/Chole-Bhature-Resized /content/our_data/\n",
        "!mv /content/Jalebi-Resize /content/our_data/\n",
        "!mv /content/Kofta-Resized /content/our_data/\n",
        "!mv /content/Naan-Resized /content/our_data/\n",
        "!mv /content/Paneer-Tikka-resized /content/our_data/\n",
        "!mv /content/Pani-Puri-resize /content/our_data/\n",
        "!mv /content/Pav-Bhaji-Resized/ /content/our_data/\n",
        "!mv /content/Vadapav-Resized/ /content/our_data/\n",
        "!mv /content/dabeli-resize /content/our_data/\n",
        "!mv /content/dal_resized /content/our_data/\n",
        "!mv /content/dhokla-resize /content/our_data/\n",
        "!mv /content/dosa_resized /content/our_data/\n",
        "!mv /content/kathi-resize /content/our_data/\n",
        "!mv /content/pakora-resize /content/our_data/"
      ]
    },
    {
      "cell_type": "code",
      "execution_count": null,
      "metadata": {
        "id": "ItwijB_PdagE"
      },
      "outputs": [],
      "source": [
        "def moveFiles(source_folder, destination_folder):\n",
        "  # fetch all files\n",
        "  for file_name in os.listdir(source_folder):\n",
        "      file_name_jpg = file_name[:-4] + \".jpg\"\n",
        "\n",
        "      # construct full file path\n",
        "      source = source_folder + file_name\n",
        "\n",
        "      ### convert .png to .jpg\n",
        "      im1 = Image.open(r\"{}\".format(source))\n",
        "      # remove alpha channel (RGBA)\n",
        "      im1 = im1.convert('RGB')\n",
        "\n",
        "      jpg_filepath = source_folder + file_name_jpg\n",
        "      im1.save(r\"{}\".format(jpg_filepath))\n",
        "      ### \n",
        "\n",
        "      source_jpg = source_folder + file_name_jpg\n",
        "      destination = destination_folder + file_name_jpg\n",
        "\n",
        "      # move only .jpg files\n",
        "      if os.path.isfile(source_jpg):\n",
        "          shutil.move(source_jpg, destination)"
      ]
    },
    {
      "cell_type": "code",
      "execution_count": null,
      "metadata": {
        "colab": {
          "base_uri": "https://localhost:8080/"
        },
        "id": "2xvb5rGBP3v4",
        "outputId": "2e9d49da-ab7c-4c53-8ef7-a2e0c05129f2"
      },
      "outputs": [
        {
          "output_type": "stream",
          "name": "stderr",
          "text": [
            "/usr/local/lib/python3.7/dist-packages/PIL/Image.py:960: UserWarning: Palette images with Transparency expressed in bytes should be converted to RGBA images\n",
            "  \"Palette images with Transparency expressed in bytes should be \"\n"
          ]
        }
      ],
      "source": [
        "moveFiles(\"/content/our_data/Biryani-resize/resize/\",\"/content/our_data/Biryani-resize/\") \n",
        "moveFiles(\"/content/our_data/Chole-Bhature-Resized/Chole-Bhature-Resized/\",\"/content/our_data/Chole-Bhature-Resized/\")\n",
        "moveFiles(\"/content/our_data/Jalebi-Resize/Jalebi-Resize/\",\"/content/our_data/Jalebi-Resize/\")\n",
        "moveFiles(\"/content/our_data/Kofta-Resized/Kofta-Resized/\",\"/content/our_data/Kofta-Resized/\")\n",
        "moveFiles(\"/content/our_data/Naan-Resized/Naan-Resized/\",\"/content/our_data/Naan-Resized/\")\n",
        "moveFiles(\"/content/our_data/Paneer-Tikka-resized/Paneer-Tikka-resized/\",\"/content/our_data/Paneer-Tikka-resized/\")\n",
        "moveFiles(\"/content/our_data/Pani-Puri-resize/resize/\",\"/content/our_data/Pani-Puri-resize/\")\n",
        "moveFiles(\"/content/our_data/Pav-Bhaji-Resized/Pav-Bhaji-Resized/\",\"/content/our_data/Pav-Bhaji-Resized/\")\n",
        "moveFiles(\"/content/our_data/Vadapav-Resized/Vadapav-Resized/\",\"/content/our_data/Vadapav-Resized/\")\n",
        "moveFiles(\"/content/our_data/dal_resized/dal_resized/\",\"/content/our_data/dal_resized/\")\n",
        "moveFiles(\"/content/our_data/pakora-resize/pakora-resize/\",\"/content/our_data/pakora-resize/\")\n",
        "moveFiles(\"/content/our_data/dhokla-resize/dhokla-resize/\",\"/content/our_data/dhokla-resize/\")\n",
        "moveFiles(\"/content/our_data/dosa_resized/dosa_resized/\",\"/content/our_data/dosa_resized/\")\n",
        "moveFiles(\"/content/our_data/dabeli-resize/dabeli-resize/\",\"/content/our_data/dabeli-resize/\")\n",
        "moveFiles(\"/content/our_data/kathi-resize/kathi-resize/\",\"/content/our_data/kathi-resize/\")"
      ]
    },
    {
      "cell_type": "code",
      "execution_count": null,
      "metadata": {
        "id": "CsY63uBYR0JJ"
      },
      "outputs": [],
      "source": [
        "!rm -rf \"/content/our_data/Biryani-resize/resize/\" \n",
        "!rm -rf \"/content/our_data/Chole-Bhature-Resized/Chole-Bhature-Resized/\" \n",
        "!rm -rf \"/content/our_data/Jalebi-Resize/Jalebi-Resize/\"\n",
        "!rm -rf \"/content/our_data/Kofta-Resized/Kofta-Resized/\"\n",
        "!rm -rf \"/content/our_data/Naan-Resized/Naan-Resized/\"\n",
        "!rm -rf \"/content/our_data/Paneer-Tikka-resized/Paneer-Tikka-resized/\"\n",
        "!rm -rf \"/content/our_data/Pani-Puri-resize/resize/\"\n",
        "!rm -rf \"/content/our_data/Pav-Bhaji-Resized/Pav-Bhaji-Resized/\"\n",
        "!rm -rf \"/content/our_data/Vadapav-Resized/Vadapav-Resized/\"\n",
        "!rm -rf \"/content/our_data/dal_resized/dal_resized/\"\n",
        "!rm -rf \"/content/our_data/pakora-resize/pakora-resize/\"\n",
        "!rm -rf \"/content/our_data/dhokla-resize/dhokla-resize/\"\n",
        "!rm -rf \"/content/our_data/dosa_resized/dosa_resized/\"\n",
        "!rm -rf \"/content/our_data/dabeli-resize/dabeli-resize/\"\n",
        "!rm -rf \"/content/our_data/kathi-resize/kathi-resize/\""
      ]
    },
    {
      "cell_type": "code",
      "execution_count": null,
      "metadata": {
        "colab": {
          "base_uri": "https://localhost:8080/"
        },
        "id": "m6St0tTiN9dz",
        "outputId": "55016dd6-debd-4807-c5f2-b145a5a48ae8"
      },
      "outputs": [
        {
          "output_type": "stream",
          "name": "stderr",
          "text": [
            "Copying files: 4770 files [00:00, 5269.07 files/s]\n"
          ]
        }
      ],
      "source": [
        "splitfolders.ratio('/content/our_data', output=\"/content/dataset2\", seed=1337, ratio=(.4, 0.4,0.2)) "
      ]
    },
    {
      "cell_type": "code",
      "execution_count": null,
      "metadata": {
        "id": "2hS7M_5OJdMd"
      },
      "outputs": [],
      "source": [
        "# move all files into the folder our_data\n",
        "with open(\"List of Indian Foods.txt\", \"r\") as a_file:\n",
        "  for line in a_file:\n",
        "    stripped_line = line.strip()\n",
        "    !mv \"/content/Indian Food Images/Indian Food Images/{stripped_line}\" \"/content/our_data\" &> /dev/null \n",
        "\n"
      ]
    },
    {
      "cell_type": "code",
      "execution_count": null,
      "metadata": {
        "id": "AKtW5IOR0EK8"
      },
      "outputs": [],
      "source": [
        "# most subfolders were not removed from the Indian Food Images folder, so we repeat the process\n",
        "with open(\"List of Indian Foods.txt\", \"r\") as a_file:\n",
        "  for line in a_file:\n",
        "    stripped_line = line.strip()\n",
        "    !mv \"/content/our_data/Indian Food Images/{stripped_line}\" \"/content/our_data\" &> /dev/null "
      ]
    },
    {
      "cell_type": "code",
      "execution_count": null,
      "metadata": {
        "id": "_xyDA0ZEcR47"
      },
      "outputs": [],
      "source": [
        "# make new folders for same resize-named folders \n",
        "!mkdir \"/content/our_data/chole_bhature\"\n",
        "!mkdir \"/content/our_data/paneer_tikka\"\n",
        "!mkdir \"/content/our_data/paneer_puri\"\n",
        "!mkdir \"/content/our_data/pav_bhaji\"\n",
        "!mkdir \"/content/our_data/vadapav\"\n",
        "!mkdir \"/content/our_data/dal\"\n",
        "!mkdir \"/content/our_data/pakora\"\n",
        "!mkdir \"/content/our_data/dhokla\"\n",
        "!mkdir \"/content/our_data/dosa\"\n",
        "!mkdir \"/content/our_data/dabeli\"\n",
        "!mkdir \"/content/our_data/kathi\""
      ]
    },
    {
      "cell_type": "code",
      "execution_count": null,
      "metadata": {
        "id": "oQtocfJ4ANoi"
      },
      "outputs": [],
      "source": [
        "!rm -rf themassiveindianfooddataset.zip indian-food-images-dataset.zip sample_data/ food20dataset"
      ]
    },
    {
      "cell_type": "code",
      "execution_count": null,
      "metadata": {
        "id": "rL1FM_smJ7Is"
      },
      "outputs": [],
      "source": [
        "# delete unneeded folders\n",
        "!rm -rf \"/content/Indian Food Images/\"\n",
        "!rm -rf \"/content/our_data/Indian Food Images/\""
      ]
    },
    {
      "cell_type": "code",
      "execution_count": null,
      "metadata": {
        "id": "Ob8lK_PDeelX"
      },
      "outputs": [],
      "source": [
        "moveFiles(\"/content/our_data/Biryani-resize/\",\"/content/our_data/biryani/\") \n",
        "moveFiles(\"/content/our_data/Chole-Bhature-Resized/\",\"/content/our_data/chole_bhature/\")\n",
        "moveFiles(\"/content/our_data/Jalebi-Resize/\",\"/content/our_data/jalebi/\")\n",
        "moveFiles(\"/content/our_data/Kofta-Resized/\",\"/content/our_data/kofta/\")\n",
        "moveFiles(\"/content/our_data/Naan-Resized/\",\"/content/our_data/naan/\")\n",
        "moveFiles(\"/content/our_data/Paneer-Tikka-resized/\",\"/content/our_data/paneer_tikka/\")\n",
        "moveFiles(\"/content/our_data/Pani-Puri-resize/\",\"/content/our_data/paneer_puri/\")\n",
        "moveFiles(\"/content/our_data/Pav-Bhaji-Resized/\",\"/content/our_data/pav_bhaji/\")\n",
        "moveFiles(\"/content/our_data/Vadapav-Resized/\",\"/content/our_data/vadapav/\")\n",
        "moveFiles(\"/content/our_data/dal_resized/\",\"/content/our_data/dal/\")\n",
        "moveFiles(\"/content/our_data/pakora-resize/\",\"/content/our_data/pakora/\")\n",
        "moveFiles(\"/content/our_data/dhokla-resize/\",\"/content/our_data/dhokla/\")\n",
        "moveFiles(\"/content/our_data/dosa_resized/\",\"/content/our_data/dosa/\")\n",
        "moveFiles(\"/content/our_data/dabeli-resize/\",\"/content/our_data/dabeli/\")\n",
        "moveFiles(\"/content/our_data/kathi-resize/\",\"/content/our_data/kathi/\")"
      ]
    },
    {
      "cell_type": "code",
      "execution_count": null,
      "metadata": {
        "id": "t9WU-XFwuybC"
      },
      "outputs": [],
      "source": [
        "# remove unnecessary folders after moving files\n",
        "!rm -rf \"/content/our_data/kathi-resize/\" \"/content/our_data/dabeli-resize\" \"/content/our_data/dosa_resized\" \"/content/our_data/dhokla-resize/\" \"/content/our_data/pakora-resize/\" \"/content/our_data/dal_resized/\" \"/content/our_data/Vadapav-Resized/\" \"/content/our_data/Biryani-resize/\" \"/content/our_data/Chole-Bhature-Resized/\" \"/content/our_data/Jalebi-Resize/\" \"/content/our_data/Kofta-Resized/\" \"/content/our_data/Naan-Resized/\" \"/content/our_data/Paneer-Tikka-resized/\" \"/content/our_data/Pani-Puri-resize/\" \"/content/our_data/Pav-Bhaji-Resized/\""
      ]
    },
    {
      "cell_type": "code",
      "execution_count": null,
      "metadata": {
        "colab": {
          "base_uri": "https://localhost:8080/"
        },
        "id": "gNYkYuoXFlmo",
        "outputId": "ee341078-6bd3-4c4a-a1f2-48f07c2805be"
      },
      "outputs": [
        {
          "output_type": "stream",
          "name": "stderr",
          "text": [
            "Copying files: 8770 files [00:02, 3542.97 files/s]\n"
          ]
        }
      ],
      "source": [
        "#split folders that have both datasets\n",
        "splitfolders.ratio('/content/our_data/', output=\"/content/our_data\", seed=1337, ratio=(.4, 0.4,0.2)) \n"
      ]
    },
    {
      "cell_type": "code",
      "execution_count": null,
      "metadata": {
        "id": "Wm5yFdEu0c1j"
      },
      "outputs": [],
      "source": [
        "batch_size = 32\n",
        "number_of_epochs = 2"
      ]
    },
    {
      "cell_type": "code",
      "execution_count": null,
      "metadata": {
        "colab": {
          "base_uri": "https://localhost:8080/"
        },
        "id": "vstFQ2G-nZxa",
        "outputId": "9a5d6293-644e-45f7-f352-73402161b7eb"
      },
      "outputs": [
        {
          "output_type": "stream",
          "name": "stdout",
          "text": [
            "Found 1600 images belonging to 80 classes.\n",
            "Found 1600 images belonging to 80 classes.\n"
          ]
        }
      ],
      "source": [
        "# preprocessing: data augmentation, dataset 1\n",
        "datagen1_train = ImageDataGenerator(\n",
        "    rotation_range=10,  \n",
        "    zoom_range=0.2, \n",
        "    width_shift_range=0.4,  \n",
        "    height_shift_range=0.1, \n",
        "    horizontal_flip=True, \n",
        "    vertical_flip=True,\n",
        "    rescale = 1./255,\n",
        ")  \n",
        "\n",
        "datagen1_valid = ImageDataGenerator(rescale = 1./255,)\n",
        "\n",
        "# input matrices\n",
        "# load and iterate training dataset\n",
        "train_data1 = datagen1_train.flow_from_directory(\n",
        "    \"/content/dataset1/train/\",\n",
        "    target_size=(224, 224),\n",
        "    batch_size=batch_size,\n",
        "    color_mode=\"rgb\",\n",
        "    class_mode=\"categorical\",\n",
        ")\n",
        "# load and iterate validation dataset\n",
        "valid_data1 = datagen1_valid.flow_from_directory(\n",
        "    \"/content/dataset1/val/\",\n",
        "    target_size=(224, 224),\n",
        "    batch_size=batch_size,\n",
        "    color_mode=\"rgb\",\n",
        "    class_mode=\"categorical\",\n",
        ")\n",
        "\n"
      ]
    },
    {
      "cell_type": "code",
      "execution_count": null,
      "metadata": {
        "colab": {
          "base_uri": "https://localhost:8080/"
        },
        "id": "y9aqjQ_LViRZ",
        "outputId": "80aa08c7-7576-43c2-c685-c7b3c7f3c474"
      },
      "outputs": [
        {
          "output_type": "stream",
          "name": "stdout",
          "text": [
            "Found 1902 images belonging to 15 classes.\n",
            "Found 1902 images belonging to 15 classes.\n"
          ]
        }
      ],
      "source": [
        "# preprocessing: data augmentation, dataset 2\n",
        "datagen2_train = ImageDataGenerator(\n",
        "    rotation_range=10,  \n",
        "    zoom_range=0.2, \n",
        "    width_shift_range=0.4,  \n",
        "    height_shift_range=0.1, \n",
        "    horizontal_flip=True, \n",
        "    vertical_flip=True,\n",
        "    rescale = 1./255,\n",
        ")  \n",
        "\n",
        "datagen2_valid = ImageDataGenerator(rescale = 1./255,)\n",
        "\n",
        "# input matrices\n",
        "# load and iterate training dataset\n",
        "train_data2 = datagen2_train.flow_from_directory(\n",
        "    \"/content/dataset2/train/\",\n",
        "    target_size=(224, 224),\n",
        "    batch_size=batch_size,\n",
        "    color_mode=\"rgb\",\n",
        "    class_mode=\"categorical\",\n",
        ")\n",
        "# load and iterate validation dataset\n",
        "valid_data2 = datagen2_valid.flow_from_directory(\n",
        "    \"/content/dataset2/val/\",\n",
        "    target_size=(224, 224),\n",
        "    batch_size=batch_size,\n",
        "    color_mode=\"rgb\",\n",
        "    class_mode=\"categorical\",\n",
        ")\n",
        "\n"
      ]
    },
    {
      "cell_type": "code",
      "execution_count": null,
      "metadata": {
        "colab": {
          "base_uri": "https://localhost:8080/"
        },
        "id": "ymzfRGZnV4cg",
        "outputId": "943ed4d0-946d-4f6e-f9f7-044eb2a29f21"
      },
      "outputs": [
        {
          "output_type": "stream",
          "name": "stdout",
          "text": [
            "Found 3502 images belonging to 91 classes.\n",
            "Found 3502 images belonging to 91 classes.\n"
          ]
        }
      ],
      "source": [
        "# preprocessing: data augmentation, both datasets\n",
        "datagen_both_train = ImageDataGenerator(\n",
        "    rotation_range=10,  \n",
        "    zoom_range=0.2, \n",
        "    width_shift_range=0.4,  \n",
        "    height_shift_range=0.1, \n",
        "    horizontal_flip=True, \n",
        "    vertical_flip=True,\n",
        "    rescale = 1./255,\n",
        ")  \n",
        "\n",
        "datagen_both_valid = ImageDataGenerator(rescale = 1./255,)\n",
        "\n",
        "# input matrices\n",
        "# load and iterate training dataset\n",
        "train_both = datagen_both_train.flow_from_directory(\n",
        "    \"/content/our_data/train/\",\n",
        "    target_size=(224, 224),\n",
        "    batch_size=batch_size,\n",
        "    color_mode=\"rgb\",\n",
        "    class_mode=\"categorical\",\n",
        ")\n",
        "# load and iterate validation dataset\n",
        "valid_both = datagen_both_valid.flow_from_directory(\n",
        "    \"/content/our_data/val/\",\n",
        "    target_size=(224, 224),\n",
        "    batch_size=batch_size,\n",
        "    color_mode=\"rgb\",\n",
        "    class_mode=\"categorical\",\n",
        ")"
      ]
    },
    {
      "cell_type": "code",
      "execution_count": null,
      "metadata": {
        "id": "wY3iRNUZXMPL"
      },
      "outputs": [],
      "source": [
        "data1_size = 1600\n",
        "data1_classes = 80\n",
        "\n",
        "data2_size = 1902\n",
        "data2_classes = 15\n",
        "\n",
        "data_both_size = 3502\n",
        "data_both_classes = 91"
      ]
    },
    {
      "cell_type": "code",
      "execution_count": null,
      "metadata": {
        "colab": {
          "base_uri": "https://localhost:8080/"
        },
        "id": "wKdvStLsd0Sg",
        "outputId": "4a23ed74-320d-46d2-9c8b-00c7699f8b62"
      },
      "outputs": [
        {
          "output_type": "stream",
          "name": "stdout",
          "text": [
            "Found 800 images belonging to 80 classes.\n",
            "Found 966 images belonging to 15 classes.\n",
            "Found 1766 images belonging to 91 classes.\n"
          ]
        }
      ],
      "source": [
        "datagen_test = ImageDataGenerator(rescale = 1./255,)\n",
        "test_data1 = datagen_test.flow_from_directory(\n",
        "    \"/content/dataset1/test/\",\n",
        "    target_size=(224, 224),\n",
        "    batch_size=batch_size,\n",
        "    color_mode=\"rgb\",\n",
        "    class_mode=\"categorical\",\n",
        ")\n",
        "\n",
        "test_data2 = datagen_test.flow_from_directory(\n",
        "    \"/content/dataset2/test/\",\n",
        "    target_size=(224, 224),\n",
        "    batch_size=batch_size,\n",
        "    color_mode=\"rgb\",\n",
        "    class_mode=\"categorical\",\n",
        ")\n",
        "\n",
        "test_data_both = datagen_test.flow_from_directory(\n",
        "    \"/content/our_data/test/\",\n",
        "    target_size=(224, 224),\n",
        "    batch_size=batch_size,\n",
        "    color_mode=\"rgb\",\n",
        "    class_mode=\"categorical\",\n",
        ")"
      ]
    },
    {
      "cell_type": "code",
      "execution_count": null,
      "metadata": {
        "id": "hwcvFj6Ls7DC"
      },
      "outputs": [],
      "source": [
        "#callback for all experiments\n",
        "es = EarlyStopping(patience=10, restore_best_weights=True)"
      ]
    },
    {
      "cell_type": "code",
      "execution_count": null,
      "metadata": {
        "colab": {
          "base_uri": "https://localhost:8080/"
        },
        "id": "g8bzzPvz_QT4",
        "outputId": "ebf2fbba-5c58-484b-fc3c-bfecb4a7d2e2"
      },
      "outputs": [
        {
          "output_type": "stream",
          "name": "stdout",
          "text": [
            "Downloading data from https://storage.googleapis.com/tensorflow/keras-applications/inception_v3/inception_v3_weights_tf_dim_ordering_tf_kernels_notop.h5\n",
            "87916544/87910968 [==============================] - 2s 0us/step\n",
            "87924736/87910968 [==============================] - 2s 0us/step\n"
          ]
        }
      ],
      "source": [
        "# 1st pre-trained experiment, with dataset 1\n",
        "\n",
        "base_model =  InceptionV3(weights='imagenet', include_top=False)\n",
        "x = base_model.output\n",
        "x = GlobalAveragePooling2D()(x)\n",
        "x = Dense(256, activation='relu', kernel_initializer=HeNormal())(x)\n",
        "x = Dense(128, activation='relu', kernel_initializer=HeNormal())(x)\n",
        "predictions = Dense(data1_classes, activation='softmax')(x)\n",
        "inception_model = Model(inputs=base_model.input, outputs=predictions)\n"
      ]
    },
    {
      "cell_type": "code",
      "execution_count": null,
      "metadata": {
        "id": "cTYrxOH-wUWG"
      },
      "outputs": [],
      "source": [
        "for layer in inception_model.layers:\n",
        "  layer.trainable = False\n",
        "\n",
        "added_layers = inception_model.layers[-3:]\n",
        "\n",
        "for layer in added_layers:\n",
        "  layer.trainable = True"
      ]
    },
    {
      "cell_type": "code",
      "execution_count": null,
      "metadata": {
        "colab": {
          "base_uri": "https://localhost:8080/"
        },
        "id": "gCPt_59hBUs-",
        "outputId": "ce662370-f61c-4c1e-a820-14b6fb9b8622"
      },
      "outputs": [
        {
          "output_type": "stream",
          "name": "stdout",
          "text": [
            "Epoch 1/2\n",
            "50/50 [==============================] - 73s 1s/step - loss: 4.4704 - categorical_accuracy: 0.0150 - val_loss: 4.3243 - val_categorical_accuracy: 0.0231\n",
            "Epoch 2/2\n",
            "50/50 [==============================] - 52s 1s/step - loss: 4.2337 - categorical_accuracy: 0.0425 - val_loss: 4.0849 - val_categorical_accuracy: 0.0581\n"
          ]
        },
        {
          "output_type": "execute_result",
          "data": {
            "text/plain": [
              "<keras.callbacks.History at 0x7f525b4b3950>"
            ]
          },
          "metadata": {},
          "execution_count": 35
        }
      ],
      "source": [
        "inception_model.compile(optimizer='adam', metrics=['categorical_accuracy'],\n",
        "              loss='categorical_crossentropy')\n",
        "\n",
        "inception_model.fit(train_data1,\n",
        "          steps_per_epoch=data1_size/batch_size, \n",
        "          validation_data=valid_data1,\n",
        "          validation_steps=data1_size/batch_size,\n",
        "          epochs=number_of_epochs,\n",
        "          callbacks=[es])"
      ]
    },
    {
      "cell_type": "code",
      "execution_count": null,
      "metadata": {
        "id": "v0-CqIfKkXSk",
        "colab": {
          "base_uri": "https://localhost:8080/"
        },
        "outputId": "a568e4b1-5484-4dfd-95f1-8037a7a99690"
      },
      "outputs": [
        {
          "output_type": "stream",
          "name": "stdout",
          "text": [
            "25/25 [==============================] - 8s 335ms/step - loss: 4.0922 - categorical_accuracy: 0.0625\n",
            "[4.092182636260986, 0.0625]\n"
          ]
        }
      ],
      "source": [
        "print(inception_model.evaluate(test_data1))"
      ]
    },
    {
      "cell_type": "code",
      "source": [
        "y_pred = inception_model.predict(test_data1, data1_size/(batch_size))\n",
        "y_pred = np.argmax(y_pred, axis=1)\n",
        "\n",
        "label_list = list(range(data1_classes))\n",
        "\n",
        "cm = confusion_matrix(test_data1.classes, y_pred, labels=label_list)\n",
        "\n",
        "disp = ConfusionMatrixDisplay(confusion_matrix=cm)\n",
        "disp.plot()\n",
        "plt.rcParams[\"figure.figsize\"] = (120,72)\n",
        "plt.show()"
      ],
      "metadata": {
        "colab": {
          "base_uri": "https://localhost:8080/",
          "height": 283
        },
        "id": "bDr73hkIL_R8",
        "outputId": "2baa59cc-6638-44f0-ebf1-aa1dcb9cd933"
      },
      "execution_count": null,
      "outputs": [
        {
          "output_type": "display_data",
          "data": {
            "text/plain": [
              "<Figure size 432x288 with 2 Axes>"
            ],
            "image/png": "[encoded data removed]"
          },
          "metadata": {
            "needs_background": "light"
          }
        }
      ]
    },
    {
      "cell_type": "code",
      "execution_count": null,
      "metadata": {
        "id": "r0VKHvn5ehFT"
      },
      "outputs": [],
      "source": [
        "# 1st pre-trained experiment, with dataset 2\n",
        "base_model =  InceptionV3(weights='imagenet', include_top=False)\n",
        "x = base_model.output\n",
        "x = GlobalAveragePooling2D()(x)\n",
        "x = Dense(256, activation='relu', kernel_initializer=HeNormal())(x)\n",
        "x = Dense(128, activation='relu', kernel_initializer=HeNormal())(x)\n",
        "predictions = Dense(data2_classes, activation='softmax')(x)\n",
        "inception_model = Model(inputs=base_model.input, outputs=predictions)\n",
        "\n"
      ]
    },
    {
      "cell_type": "code",
      "execution_count": null,
      "metadata": {
        "id": "xeQJ6hckufxS"
      },
      "outputs": [],
      "source": [
        "for layer in inception_model.layers:\n",
        "  layer.trainable = False\n",
        "\n",
        "added_layers = inception_model.layers[-3:]\n",
        "\n",
        "for layer in added_layers:\n",
        "  layer.trainable = True"
      ]
    },
    {
      "cell_type": "code",
      "execution_count": null,
      "metadata": {
        "id": "jFGDjyfzehMr",
        "colab": {
          "base_uri": "https://localhost:8080/"
        },
        "outputId": "be80bd40-6860-451b-8150-1f528481ca07"
      },
      "outputs": [
        {
          "output_type": "stream",
          "name": "stdout",
          "text": [
            "Epoch 1/5\n",
            "59/59 [==============================] - 44s 660ms/step - loss: 1.1228 - categorical_accuracy: 0.6430 - val_loss: 0.8613 - val_categorical_accuracy: 0.7261\n",
            "Epoch 2/5\n",
            "59/59 [==============================] - 37s 626ms/step - loss: 0.9499 - categorical_accuracy: 0.6930 - val_loss: 0.7326 - val_categorical_accuracy: 0.7629\n",
            "Epoch 3/5\n",
            "59/59 [==============================] - 37s 629ms/step - loss: 0.8611 - categorical_accuracy: 0.7192 - val_loss: 0.6690 - val_categorical_accuracy: 0.7928\n",
            "Epoch 4/5\n",
            "59/59 [==============================] - 37s 627ms/step - loss: 0.8083 - categorical_accuracy: 0.7340 - val_loss: 0.6862 - val_categorical_accuracy: 0.7776\n",
            "Epoch 5/5\n",
            "59/59 [==============================] - 38s 635ms/step - loss: 0.7763 - categorical_accuracy: 0.7539 - val_loss: 0.7082 - val_categorical_accuracy: 0.7702\n"
          ]
        },
        {
          "output_type": "execute_result",
          "data": {
            "text/plain": [
              "<keras.callbacks.History at 0x7f5173238c90>"
            ]
          },
          "metadata": {},
          "execution_count": 68
        }
      ],
      "source": [
        "inception_model.compile(optimizer='adam', metrics=['categorical_accuracy'],\n",
        "              loss='categorical_crossentropy')\n",
        "\n",
        "inception_model.fit(train_data2,\n",
        "          steps_per_epoch=data2_size/batch_size, \n",
        "          validation_data=valid_data2,\n",
        "          validation_steps=data2_size/batch_size,\n",
        "          epochs=5,#number_of_epochs,\n",
        "          callbacks=[es])"
      ]
    },
    {
      "cell_type": "code",
      "execution_count": null,
      "metadata": {
        "id": "iBWQwDc7ehUb",
        "colab": {
          "base_uri": "https://localhost:8080/"
        },
        "outputId": "1e709c84-44bc-4ae3-e49a-ef6db509d119"
      },
      "outputs": [
        {
          "output_type": "stream",
          "name": "stdout",
          "text": [
            "31/31 [==============================] - 5s 162ms/step - loss: 0.7217 - categorical_accuracy: 0.7692\n",
            "[0.7217150926589966, 0.7691511511802673]\n"
          ]
        }
      ],
      "source": [
        "print(inception_model.evaluate(test_data2))"
      ]
    },
    {
      "cell_type": "code",
      "source": [
        "y_pred = inception_model.predict(test_data2, data2_size/(batch_size))\n",
        "y_pred = np.argmax(y_pred, axis=1)\n",
        "\n",
        "label_list = list(range(data2_classes))\n",
        "\n",
        "cm = confusion_matrix(test_data2.classes, y_pred, labels=label_list)\n",
        "\n",
        "disp = ConfusionMatrixDisplay(confusion_matrix=cm)\n",
        "disp.plot()\n",
        "\n",
        "plt.show()"
      ],
      "metadata": {
        "colab": {
          "base_uri": "https://localhost:8080/",
          "height": 279
        },
        "id": "3f4ymAiSOtP5",
        "outputId": "c4fd1225-6c28-43af-ba5c-54aa5f3979e1"
      },
      "execution_count": null,
      "outputs": [
        {
          "output_type": "display_data",
          "data": {
            "text/plain": [
              "<Figure size 432x288 with 2 Axes>"
            ],
            "image/png": "[encoded data removed]"
          },
          "metadata": {
            "needs_background": "light"
          }
        }
      ]
    },
    {
      "cell_type": "code",
      "execution_count": null,
      "metadata": {
        "id": "h0eOkPnveha8"
      },
      "outputs": [],
      "source": [
        "# 1st pre-trained experiment, with both datasets\n",
        "base_model =  InceptionV3(weights='imagenet', include_top=False)\n",
        "x = base_model.output\n",
        "x = GlobalAveragePooling2D()(x)\n",
        "x = Dense(256, activation='relu', kernel_initializer=HeNormal())(x)\n",
        "x = Dense(128, activation='relu', kernel_initializer=HeNormal())(x)\n",
        "predictions = Dense(data_both_classes, activation='softmax')(x)\n",
        "inception_model = Model(inputs=base_model.input, outputs=predictions)"
      ]
    },
    {
      "cell_type": "code",
      "execution_count": null,
      "metadata": {
        "id": "vHCxbKqqwOe1"
      },
      "outputs": [],
      "source": [
        "for layer in inception_model.layers:\n",
        "  layer.trainable = False\n",
        "\n",
        "added_layers = inception_model.layers[-3:]\n",
        "\n",
        "for layer in added_layers:\n",
        "  layer.trainable = True"
      ]
    },
    {
      "cell_type": "code",
      "execution_count": null,
      "metadata": {
        "id": "PT3W6xqyeyyX"
      },
      "outputs": [],
      "source": [
        "inception_model.compile(optimizer='adam', metrics=['categorical_accuracy'],\n",
        "              loss='categorical_crossentropy')\n",
        "\n",
        "inception_model.fit(train_both,\n",
        "          steps_per_epoch=data_both_size/batch_size, \n",
        "          validation_data=valid_both,\n",
        "          validation_steps=data_both_size/batch_size,\n",
        "          epochs=number_of_epochs,\n",
        "          callbacks=[es])"
      ]
    },
    {
      "cell_type": "code",
      "execution_count": null,
      "metadata": {
        "id": "BpvrHi93ehg3"
      },
      "outputs": [],
      "source": [
        "print(inception_model.evaluate(test_data_both))"
      ]
    },
    {
      "cell_type": "code",
      "source": [
        "y_pred = inception_model.predict(test_data_both, data_both_size/(batch_size))\n",
        "y_pred = np.argmax(y_pred, axis=1)\n",
        "\n",
        "label_list = list(range(data_both_classes))\n",
        "\n",
        "cm = confusion_matrix(test_data_both.classes, y_pred, labels=label_list)\n",
        "\n",
        "disp = ConfusionMatrixDisplay(confusion_matrix=cm)\n",
        "disp.plot()\n",
        "plt.rcParams[\"figure.figsize\"] = (120,72)\n",
        "plt.show()"
      ],
      "metadata": {
        "colab": {
          "base_uri": "https://localhost:8080/",
          "height": 283
        },
        "id": "dpavYW4OW2SD",
        "outputId": "3c2106c7-35e1-4544-eee5-8d12ffa936ae"
      },
      "execution_count": null,
      "outputs": [
        {
          "output_type": "display_data",
          "data": {
            "text/plain": [
              "<Figure size 432x288 with 2 Axes>"
            ],
            "image/png": "[encoded data removed]"
          },
          "metadata": {
            "needs_background": "light"
          }
        }
      ]
    },
    {
      "cell_type": "code",
      "execution_count": null,
      "metadata": {
        "id": "DHY0QcaUwKyP"
      },
      "outputs": [],
      "source": [
        "# 1st random experiment with Dataset 1\n",
        "\n",
        "model = Sequential()\n",
        "model.add(GlobalAveragePooling2D())\n",
        "model.add(Dense(256, activation='relu', kernel_initializer=HeNormal()))\n",
        "model.add(Dense(128, activation='relu', kernel_initializer=HeNormal()))\n",
        "model.add(Dense(data1_classes, activation='softmax'))\n",
        "\n",
        "model.compile(loss='categorical_crossentropy', optimizer='adam', metrics=['categorical_accuracy'])"
      ]
    },
    {
      "cell_type": "code",
      "execution_count": null,
      "metadata": {
        "id": "qphDK7__wjX9"
      },
      "outputs": [],
      "source": [
        "model.fit(train_data1,\n",
        "          steps_per_epoch=data1_size/batch_size,\n",
        "          validation_data=valid_data1,\n",
        "          validation_steps=data1_size/batch_size,\n",
        "          epochs=number_of_epochs,\n",
        "          callbacks=[es])"
      ]
    },
    {
      "cell_type": "code",
      "execution_count": null,
      "metadata": {
        "id": "TBnm02K2ldUX"
      },
      "outputs": [],
      "source": [
        "print(model.evaluate(test_data1))"
      ]
    },
    {
      "cell_type": "code",
      "source": [
        "y_pred = model.predict(test_data1, data1_size/(batch_size))\n",
        "y_pred = np.argmax(y_pred, axis=1)\n",
        "\n",
        "label_list = list(range(data1_classes))\n",
        "\n",
        "cm = confusion_matrix(test_data1.classes, y_pred, labels=label_list)\n",
        "\n",
        "disp = ConfusionMatrixDisplay(confusion_matrix=cm)\n",
        "disp.plot()\n",
        "plt.rcParams[\"figure.figsize\"] = (120,72)\n",
        "plt.show()"
      ],
      "metadata": {
        "id": "7cz0M-fKXB8m"
      },
      "execution_count": null,
      "outputs": []
    },
    {
      "cell_type": "code",
      "execution_count": null,
      "metadata": {
        "id": "7ex_0m1mVj-M"
      },
      "outputs": [],
      "source": [
        "#1st experiment with Dataset 2\n",
        "model = Sequential()\n",
        "model.add(GlobalAveragePooling2D())\n",
        "model.add(Dense(256, activation='relu', kernel_initializer=HeNormal()))\n",
        "model.add(Dense(128, activation='relu', kernel_initializer=HeNormal()))\n",
        "model.add(Dense(data2_classes, activation='softmax'))\n",
        "\n",
        "model.compile(loss='categorical_crossentropy', optimizer='adam', metrics=['categorical_accuracy'])"
      ]
    },
    {
      "cell_type": "code",
      "execution_count": null,
      "metadata": {
        "id": "bVIF0hWXVoqN"
      },
      "outputs": [],
      "source": [
        "model.fit(train_data2,\n",
        "          steps_per_epoch=data2_size/batch_size,\n",
        "          validation_data=valid_data2,\n",
        "          validation_steps=data2_size/batch_size,\n",
        "          epochs=number_of_epochs,\n",
        "          callbacks=[es])"
      ]
    },
    {
      "cell_type": "code",
      "execution_count": null,
      "metadata": {
        "id": "WmDyaYxmVtRQ"
      },
      "outputs": [],
      "source": [
        "print(model.evaluate(test_data2))"
      ]
    },
    {
      "cell_type": "code",
      "source": [
        "y_pred = model.predict(test_data2, data2_size/(batch_size))\n",
        "y_pred = np.argmax(y_pred, axis=1)\n",
        "\n",
        "label_list = list(range(data2_classes))\n",
        "\n",
        "cm = confusion_matrix(test_data2.classes, y_pred, labels=label_list)\n",
        "\n",
        "disp = ConfusionMatrixDisplay(confusion_matrix=cm)\n",
        "disp.plot()\n",
        "\n",
        "plt.show()"
      ],
      "metadata": {
        "id": "vcEEyqgPXFS0"
      },
      "execution_count": null,
      "outputs": []
    },
    {
      "cell_type": "code",
      "execution_count": null,
      "metadata": {
        "id": "uHIqFMybV4nG"
      },
      "outputs": [],
      "source": [
        "#1st random experiment with both datasets\n",
        "model = Sequential()\n",
        "model.add(GlobalAveragePooling2D())\n",
        "model.add(Dense(256, activation='relu', kernel_initializer=HeNormal()))\n",
        "model.add(Dense(128, activation='relu', kernel_initializer=HeNormal()))\n",
        "model.add(Dense(data_both_classes, activation='softmax'))\n",
        "\n",
        "model.compile(loss='categorical_crossentropy', optimizer='adam', metrics=['categorical_accuracy'])"
      ]
    },
    {
      "cell_type": "code",
      "execution_count": null,
      "metadata": {
        "id": "lh1lrUBvV4wn"
      },
      "outputs": [],
      "source": [
        "model.fit(train_both,\n",
        "          steps_per_epoch=data_both_size/batch_size,\n",
        "          validation_data=valid_both,\n",
        "          validation_steps=data_both_size/batch_size,\n",
        "          epochs=number_of_epochs,\n",
        "          callbacks=[es])"
      ]
    },
    {
      "cell_type": "code",
      "execution_count": null,
      "metadata": {
        "id": "-JaxW6enV46f"
      },
      "outputs": [],
      "source": [
        "print(model.evaluate(test_data_both))"
      ]
    },
    {
      "cell_type": "code",
      "source": [
        "y_pred = model.predict(test_data_both, data_both_size/(batch_size))\n",
        "y_pred = np.argmax(y_pred, axis=1)\n",
        "\n",
        "label_list = list(range(data_both_classes))\n",
        "\n",
        "cm = confusion_matrix(test_data_both.classes, y_pred, labels=label_list)\n",
        "\n",
        "disp = ConfusionMatrixDisplay(confusion_matrix=cm)\n",
        "disp.plot()\n",
        "plt.rcParams[\"figure.figsize\"] = (120,72)\n",
        "plt.show()"
      ],
      "metadata": {
        "colab": {
          "base_uri": "https://localhost:8080/",
          "height": 232
        },
        "id": "-xFt8nAPXHDh",
        "outputId": "0125a4e3-4b31-4239-df6b-f140a6db143b"
      },
      "execution_count": null,
      "outputs": [
        {
          "output_type": "error",
          "ename": "NameError",
          "evalue": "ignored",
          "traceback": [
            "\u001b[0;31m---------------------------------------------------------------------------\u001b[0m",
            "\u001b[0;31mNameError\u001b[0m                                 Traceback (most recent call last)",
            "\u001b[0;32m<ipython-input-72-cd68cef42c3d>\u001b[0m in \u001b[0;36m<module>\u001b[0;34m()\u001b[0m\n\u001b[0;32m----> 1\u001b[0;31m \u001b[0my_pred\u001b[0m \u001b[0;34m=\u001b[0m \u001b[0mmodel\u001b[0m\u001b[0;34m.\u001b[0m\u001b[0mpredict\u001b[0m\u001b[0;34m(\u001b[0m\u001b[0mtest_data_both\u001b[0m\u001b[0;34m,\u001b[0m \u001b[0mdata_both_size\u001b[0m\u001b[0;34m/\u001b[0m\u001b[0;34m(\u001b[0m\u001b[0mbatch_size\u001b[0m\u001b[0;34m)\u001b[0m\u001b[0;34m)\u001b[0m\u001b[0;34m\u001b[0m\u001b[0;34m\u001b[0m\u001b[0m\n\u001b[0m\u001b[1;32m      2\u001b[0m \u001b[0my_pred\u001b[0m \u001b[0;34m=\u001b[0m \u001b[0mnp\u001b[0m\u001b[0;34m.\u001b[0m\u001b[0margmax\u001b[0m\u001b[0;34m(\u001b[0m\u001b[0my_pred\u001b[0m\u001b[0;34m,\u001b[0m \u001b[0maxis\u001b[0m\u001b[0;34m=\u001b[0m\u001b[0;36m1\u001b[0m\u001b[0;34m)\u001b[0m\u001b[0;34m\u001b[0m\u001b[0;34m\u001b[0m\u001b[0m\n\u001b[1;32m      3\u001b[0m \u001b[0;34m\u001b[0m\u001b[0m\n\u001b[1;32m      4\u001b[0m \u001b[0mlabel_list\u001b[0m \u001b[0;34m=\u001b[0m \u001b[0mlist\u001b[0m\u001b[0;34m(\u001b[0m\u001b[0mrange\u001b[0m\u001b[0;34m(\u001b[0m\u001b[0mdata_both_classes\u001b[0m\u001b[0;34m)\u001b[0m\u001b[0;34m)\u001b[0m\u001b[0;34m\u001b[0m\u001b[0;34m\u001b[0m\u001b[0m\n\u001b[1;32m      5\u001b[0m \u001b[0;34m\u001b[0m\u001b[0m\n",
            "\u001b[0;31mNameError\u001b[0m: name 'model' is not defined"
          ]
        }
      ]
    },
    {
      "cell_type": "code",
      "execution_count": null,
      "metadata": {
        "id": "ZcBJTQcFCe-r"
      },
      "outputs": [],
      "source": [
        "# 2nd pre-trained experiment with Dataset 1\n",
        "base_model =  InceptionV3(weights='imagenet', include_top=False)\n",
        "x = base_model.output\n",
        "x = Conv2D(6,(5,5), activation='relu', kernel_initializer=HeNormal(), input_shape=(224,224,3,))(x)\n",
        "x = Dropout(0.3)(x)\n",
        "x = GlobalAveragePooling2D()(x)\n",
        "x = Dense(256, activation='relu', kernel_initializer=HeNormal())(x)\n",
        "x = Dense(128, activation='relu', kernel_initializer=HeNormal())(x)\n",
        "\n",
        "predictions = Dense(data1_classes, activation='softmax')(x)\n",
        "inception_model = Model(inputs=base_model.input, outputs=predictions)"
      ]
    },
    {
      "cell_type": "code",
      "execution_count": null,
      "metadata": {
        "id": "drLZTlncEVNe"
      },
      "outputs": [],
      "source": [
        "inception_model.compile(optimizer='adam', metrics=['categorical_accuracy'],\n",
        "              loss='categorical_crossentropy')\n",
        "\n",
        "inception_model.fit(train_data1,\n",
        "          steps_per_epoch=data1_size/batch_size, \n",
        "          validation_data=valid_data1,\n",
        "          validation_steps=data1_size/batch_size,\n",
        "          epochs=1,\n",
        "          callbacks=[es])\n"
      ]
    },
    {
      "cell_type": "code",
      "execution_count": null,
      "metadata": {
        "id": "bo73JCzlEVZf"
      },
      "outputs": [],
      "source": [
        "print(inception_model.evaluate(test_data1))"
      ]
    },
    {
      "cell_type": "code",
      "source": [
        "y_pred = inception_model.predict(test_data1, data1_size/(batch_size))\n",
        "y_pred = np.argmax(y_pred, axis=1)\n",
        "\n",
        "label_list = list(range(data1_classes))\n",
        "\n",
        "cm = confusion_matrix(test_data1.classes, y_pred, labels=label_list)\n",
        "\n",
        "disp = ConfusionMatrixDisplay(confusion_matrix=cm)\n",
        "disp.plot()\n",
        "plt.rcParams[\"figure.figsize\"] = (120,72)\n",
        "plt.show()"
      ],
      "metadata": {
        "id": "Wo325bVUXjfH"
      },
      "execution_count": null,
      "outputs": []
    },
    {
      "cell_type": "code",
      "execution_count": null,
      "metadata": {
        "id": "hlZEp0UUEVjJ"
      },
      "outputs": [],
      "source": [
        "# 2nd pre-trained experiment with dataset 2\n",
        "base_model =  InceptionV3(weights='imagenet', include_top=False)\n",
        "x = base_model.output\n",
        "x = Conv2D(6,(5,5), activation='relu', kernel_initializer=HeNormal(), input_shape=(224,224,3,))(x)\n",
        "x = Dropout(0.3)(x)\n",
        "x = GlobalAveragePooling2D()(x)\n",
        "x = Dense(256, activation='relu', kernel_initializer=HeNormal())(x)\n",
        "x = Dense(128, activation='relu', kernel_initializer=HeNormal())(x)\n",
        "\n",
        "predictions = Dense(data1_classes, activation='softmax')(x)\n",
        "inception_model = Model(inputs=base_model.input, outputs=predictions)"
      ]
    },
    {
      "cell_type": "code",
      "execution_count": null,
      "metadata": {
        "id": "CPz7IxG0U8YY"
      },
      "outputs": [],
      "source": [
        "inception_model.compile(optimizer='adam', metrics=['categorical_accuracy'],\n",
        "              loss='categorical_crossentropy')\n",
        "\n",
        "inception_model.fit(train_data2,\n",
        "          steps_per_epoch=data2_size/batch_size, \n",
        "          validation_data=valid_data2,\n",
        "          validation_steps=data2_size/batch_size,\n",
        "          epochs=1,\n",
        "          callbacks=[es])"
      ]
    },
    {
      "cell_type": "code",
      "execution_count": null,
      "metadata": {
        "id": "PC9OJaLQU8il"
      },
      "outputs": [],
      "source": [
        "print(inception_model.evaluate(test_data2))"
      ]
    },
    {
      "cell_type": "code",
      "source": [
        "y_pred = inception_model.predict(test_data2, data2_size/(batch_size))\n",
        "y_pred = np.argmax(y_pred, axis=1)\n",
        "\n",
        "label_list = list(range(data2_classes))\n",
        "\n",
        "cm = confusion_matrix(test_data2.classes, y_pred, labels=label_list)\n",
        "\n",
        "disp = ConfusionMatrixDisplay(confusion_matrix=cm)\n",
        "disp.plot()\n",
        "\n",
        "plt.show()"
      ],
      "metadata": {
        "id": "OUnFR-ciXnc4"
      },
      "execution_count": null,
      "outputs": []
    },
    {
      "cell_type": "code",
      "execution_count": null,
      "metadata": {
        "id": "2PF0QuEbU8w7"
      },
      "outputs": [],
      "source": [
        "# 2nd pre-trained experiment with both datasets\n",
        "base_model =  InceptionV3(weights='imagenet', include_top=False)\n",
        "x = base_model.output\n",
        "x = Conv2D(6,(5,5), activation='relu', kernel_initializer=HeNormal(), input_shape=(224,224,3,))(x)\n",
        "x = Dropout(0.3)(x)\n",
        "x = GlobalAveragePooling2D()(x)\n",
        "x = Dense(256, activation='relu', kernel_initializer=HeNormal())(x)\n",
        "x = Dense(128, activation='relu', kernel_initializer=HeNormal())(x)\n",
        "\n",
        "predictions = Dense(data1_classes, activation='softmax')(x)\n",
        "inception_model = Model(inputs=base_model.input, outputs=predictions)"
      ]
    },
    {
      "cell_type": "code",
      "execution_count": null,
      "metadata": {
        "id": "uUXYOfZFDqFD"
      },
      "outputs": [],
      "source": [
        "inception_model.compile(optimizer='adam', metrics=['categorical_accuracy'],\n",
        "              loss='categorical_crossentropy')\n",
        "\n",
        "inception_model.fit(train_both,\n",
        "          steps_per_epoch=data_both_size/batch_size, \n",
        "          validation_data=valid_both,\n",
        "          validation_steps=data_both_size/batch_size,\n",
        "          epochs=number_of_epochs,\n",
        "          callbacks=[es])"
      ]
    },
    {
      "cell_type": "code",
      "execution_count": null,
      "metadata": {
        "id": "5pVC4MZRVJWU"
      },
      "outputs": [],
      "source": [
        "print(inception_model.evaluate(test_data_both))"
      ]
    },
    {
      "cell_type": "code",
      "source": [
        "y_pred = inception_model.predict(test_data_both, data_both_size/(batch_size))\n",
        "y_pred = np.argmax(y_pred, axis=1)\n",
        "\n",
        "label_list = list(range(data_both_classes))\n",
        "\n",
        "cm = confusion_matrix(test_data_both.classes, y_pred, labels=label_list)\n",
        "\n",
        "disp = ConfusionMatrixDisplay(confusion_matrix=cm)\n",
        "disp.plot()\n",
        "plt.rcParams[\"figure.figsize\"] = (120,72)\n",
        "plt.show()"
      ],
      "metadata": {
        "id": "xVzvyqFtXqbg"
      },
      "execution_count": null,
      "outputs": []
    },
    {
      "cell_type": "code",
      "execution_count": null,
      "metadata": {
        "id": "B2XbqOJLDtL0"
      },
      "outputs": [],
      "source": [
        "#2nd random experiment with Dataset1\n",
        "model = Sequential()\n",
        "model.add(Conv2D(6, (5,5), activation='relu', kernel_initializer=HeNormal(), input_shape=(224,224,3,)))\n",
        "model.add(Dropout(0.3))\n",
        "model.add(GlobalAveragePooling2D())\n",
        "model.add(Dense(256, activation='relu', kernel_initializer=HeNormal()))\n",
        "model.add(Dense(128, activation='relu', kernel_initializer=HeNormal()))\n",
        "model.add(Dense(data1_classes, activation=\"softmax\"))\n",
        "\n",
        "model.compile(loss='categorical_crossentropy', optimizer='adam', metrics=['categorical_accuracy'])"
      ]
    },
    {
      "cell_type": "code",
      "execution_count": null,
      "metadata": {
        "id": "kH0BpkVWCfHG"
      },
      "outputs": [],
      "source": [
        "model.fit(train_data1,\n",
        "          steps_per_epoch=data1_size/batch_size,\n",
        "          validation_data=valid_data1,\n",
        "          validation_steps=data1_size/batch_size,\n",
        "          epochs=number_of_epochs,\n",
        "          callbacks=[es])"
      ]
    },
    {
      "cell_type": "code",
      "execution_count": null,
      "metadata": {
        "id": "NupwTA-LDxn6"
      },
      "outputs": [],
      "source": [
        "print(model.evaluate(test_data1))"
      ]
    },
    {
      "cell_type": "code",
      "source": [
        "y_pred = model.predict(test_data1, data1_size/(batch_size))\n",
        "y_pred = np.argmax(y_pred, axis=1)\n",
        "\n",
        "label_list = list(range(data1_classes))\n",
        "\n",
        "cm = confusion_matrix(test_data_both.classes, y_pred, labels=label_list)\n",
        "\n",
        "disp = ConfusionMatrixDisplay(confusion_matrix=cm)\n",
        "disp.plot()\n",
        "plt.rcParams[\"figure.figsize\"] = (120,72)\n",
        "plt.show()"
      ],
      "metadata": {
        "id": "4Wbrta1RXzE6"
      },
      "execution_count": null,
      "outputs": []
    },
    {
      "cell_type": "code",
      "execution_count": null,
      "metadata": {
        "id": "p6WbLTlUCfPv"
      },
      "outputs": [],
      "source": [
        "#2nd random experiment with Dataset 2\n",
        "model = Sequential()\n",
        "model.add(Conv2D(6, (5,5), activation='relu', kernel_initializer=HeNormal(), input_shape=(224,224,3,)))\n",
        "model.add(Dropout(0.3))\n",
        "model.add(GlobalAveragePooling2D())\n",
        "model.add(Dense(256, activation='relu', kernel_initializer=HeNormal()))\n",
        "model.add(Dense(128, activation='relu', kernel_initializer=HeNormal()))\n",
        "model.add(Dense(data2_classes, activation=\"softmax\"))\n",
        "\n",
        "model.compile(loss='categorical_crossentropy', optimizer='adam', metrics=['categorical_accuracy'])"
      ]
    },
    {
      "cell_type": "code",
      "execution_count": null,
      "metadata": {
        "id": "R7N5YQbpCm4v"
      },
      "outputs": [],
      "source": [
        "model.fit(train_data2,\n",
        "          steps_per_epoch=data2_size/batch_size,\n",
        "          validation_data=valid_data2,\n",
        "          validation_steps=data2_size/batch_size,\n",
        "          epochs=number_of_epochs,\n",
        "          callbacks=[es])"
      ]
    },
    {
      "cell_type": "code",
      "execution_count": null,
      "metadata": {
        "id": "b49RWlbACn8p"
      },
      "outputs": [],
      "source": [
        "print(model.evaluate(test_data2))"
      ]
    },
    {
      "cell_type": "code",
      "source": [
        "y_pred = model.predict(test_data2, data2_size/(batch_size))\n",
        "y_pred = np.argmax(y_pred, axis=1)\n",
        "\n",
        "label_list = list(range(data2_classes))\n",
        "\n",
        "cm = confusion_matrix(test_data2.classes, y_pred, labels=label_list)\n",
        "\n",
        "disp = ConfusionMatrixDisplay(confusion_matrix=cm)\n",
        "disp.plot()\n",
        "\n",
        "plt.show()"
      ],
      "metadata": {
        "id": "T7-56OeOX-aj"
      },
      "execution_count": null,
      "outputs": []
    },
    {
      "cell_type": "code",
      "execution_count": null,
      "metadata": {
        "id": "jCGBZ7MZECzx"
      },
      "outputs": [],
      "source": [
        "#2nd random experiment with Both Datasets\n",
        "model = Sequential()\n",
        "model.add(Conv2D(6, (5,5), activation='relu', kernel_initializer=HeNormal(), input_shape=(224,224,3,)))\n",
        "model.add(Dropout(0.3))\n",
        "model.add(GlobalAveragePooling2D())\n",
        "model.add(Dense(256, activation='relu', kernel_initializer=HeNormal()))\n",
        "model.add(Dense(128, activation='relu', kernel_initializer=HeNormal()))\n",
        "model.add(Dense(data_both_classes, activation=\"softmax\"))\n",
        "\n",
        "model.compile(loss='categorical_crossentropy', optimizer='adam', metrics=['categorical_accuracy'])"
      ]
    },
    {
      "cell_type": "code",
      "execution_count": null,
      "metadata": {
        "id": "AwYrt8wUEC_8"
      },
      "outputs": [],
      "source": [
        "model.fit(train_both,\n",
        "          steps_per_epoch=data_both_size/batch_size,\n",
        "          validation_data=valid_both,\n",
        "          validation_steps=data_both_size/batch_size,\n",
        "          epochs=2,\n",
        "          callbacks=[es])"
      ]
    },
    {
      "cell_type": "code",
      "execution_count": null,
      "metadata": {
        "id": "O1sIzt8wEDMu"
      },
      "outputs": [],
      "source": [
        "print(model.evaluate(test_data_both))"
      ]
    },
    {
      "cell_type": "code",
      "source": [
        "y_pred = model.predict(test_data_both, data_both_size/(batch_size))\n",
        "y_pred = np.argmax(y_pred, axis=1)\n",
        "\n",
        "label_list = list(range(data_both_classes))\n",
        "\n",
        "cm = confusion_matrix(test_data_both.classes, y_pred, labels=label_list)\n",
        "\n",
        "disp = ConfusionMatrixDisplay(confusion_matrix=cm)\n",
        "disp.plot()\n",
        "plt.rcParams[\"figure.figsize\"] = (120,72)\n",
        "plt.show()"
      ],
      "metadata": {
        "id": "jOwsFh_3YEte"
      },
      "execution_count": null,
      "outputs": []
    }
  ],
  "metadata": {
    "accelerator": "GPU",
    "colab": {
      "collapsed_sections": [],
      "name": "Copy of indianFoodClassification.ipynb",
      "provenance": []
    },
    "kernelspec": {
      "display_name": "Python 3",
      "name": "python3"
    },
    "language_info": {
      "name": "python"
    }
  },
  "nbformat": 4,
  "nbformat_minor": 0
}